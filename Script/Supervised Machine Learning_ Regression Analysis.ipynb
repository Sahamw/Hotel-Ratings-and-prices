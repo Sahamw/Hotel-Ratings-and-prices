{
 "cells": [
  {
   "cell_type": "code",
   "execution_count": 1,
   "id": "0584f31d",
   "metadata": {},
   "outputs": [],
   "source": [
    "import pandas as pd\n",
    "import numpy as np\n",
    "import seaborn as sns\n",
    "import matplotlib\n",
    "import matplotlib.pyplot as plt\n",
    "import os\n",
    "import sklearn\n",
    "from sklearn.model_selection import train_test_split \n",
    "from sklearn.linear_model import LinearRegression\n",
    "from sklearn.metrics import mean_squared_error, r2_score"
   ]
  },
  {
   "cell_type": "code",
   "execution_count": 2,
   "id": "ff500e57",
   "metadata": {},
   "outputs": [],
   "source": [
    "path = r'C:\\Users\\wsaha\\Documents\\Hotel set'"
   ]
  },
  {
   "cell_type": "code",
   "execution_count": 8,
   "id": "a142bbb6",
   "metadata": {},
   "outputs": [],
   "source": [
    "#Import hotel data set with Latin -1 encoding\n",
    "\n",
    "dfhotel = pd.read_csv(os.path.join(path, 'Data set', 'Prepared', 'Df_hotel_cleaned.csv'), encoding='latin-1')"
   ]
  },
  {
   "cell_type": "code",
   "execution_count": 5,
   "id": "e62531d1",
   "metadata": {},
   "outputs": [],
   "source": [
    "# This option ensures that the graphs you create are displayed within the notebook without the need to \"call\" them specifically.\n",
    "%matplotlib inline"
   ]
  },
  {
   "cell_type": "code",
   "execution_count": 9,
   "id": "f8cb5778",
   "metadata": {},
   "outputs": [
    {
     "data": {
      "text/html": [
       "<div>\n",
       "<style scoped>\n",
       "    .dataframe tbody tr th:only-of-type {\n",
       "        vertical-align: middle;\n",
       "    }\n",
       "\n",
       "    .dataframe tbody tr th {\n",
       "        vertical-align: top;\n",
       "    }\n",
       "\n",
       "    .dataframe thead th {\n",
       "        text-align: right;\n",
       "    }\n",
       "</style>\n",
       "<table border=\"1\" class=\"dataframe\">\n",
       "  <thead>\n",
       "    <tr style=\"text-align: right;\">\n",
       "      <th></th>\n",
       "      <th>Unnamed: 0</th>\n",
       "      <th>Booking ID</th>\n",
       "      <th>Date of Booking</th>\n",
       "      <th>Time</th>\n",
       "      <th>Customer ID</th>\n",
       "      <th>Gender</th>\n",
       "      <th>Age</th>\n",
       "      <th>Origin Country</th>\n",
       "      <th>State</th>\n",
       "      <th>Destination Country</th>\n",
       "      <th>...</th>\n",
       "      <th>No_of_rooms</th>\n",
       "      <th>Hotel Name</th>\n",
       "      <th>Hotel Rating</th>\n",
       "      <th>Payment Mode</th>\n",
       "      <th>Bank Name</th>\n",
       "      <th>Price per day_Singapore_$</th>\n",
       "      <th>Discount</th>\n",
       "      <th>Profit Margin</th>\n",
       "      <th>Price of Room per Day</th>\n",
       "      <th>Total Price</th>\n",
       "    </tr>\n",
       "  </thead>\n",
       "  <tbody>\n",
       "    <tr>\n",
       "      <th>0</th>\n",
       "      <td>0</td>\n",
       "      <td>DDMY00001</td>\n",
       "      <td>01/01/2010</td>\n",
       "      <td>10:49:40</td>\n",
       "      <td>MY00001</td>\n",
       "      <td>Male</td>\n",
       "      <td>42</td>\n",
       "      <td>Malaysia</td>\n",
       "      <td>Johor</td>\n",
       "      <td>Denmark</td>\n",
       "      <td>...</td>\n",
       "      <td>1</td>\n",
       "      <td>Hotel Triton</td>\n",
       "      <td>4.3</td>\n",
       "      <td>Wallet</td>\n",
       "      <td>United Overseas Bank (UOB)</td>\n",
       "      <td>243</td>\n",
       "      <td>1%</td>\n",
       "      <td>0.25</td>\n",
       "      <td>243.000000</td>\n",
       "      <td>1944.0</td>\n",
       "    </tr>\n",
       "    <tr>\n",
       "      <th>1</th>\n",
       "      <td>1</td>\n",
       "      <td>DDID00002</td>\n",
       "      <td>01/01/2010</td>\n",
       "      <td>09:19:47</td>\n",
       "      <td>ID00001</td>\n",
       "      <td>Female</td>\n",
       "      <td>44</td>\n",
       "      <td>Indonesia</td>\n",
       "      <td>Ciawi</td>\n",
       "      <td>Colombia</td>\n",
       "      <td>...</td>\n",
       "      <td>2</td>\n",
       "      <td>Enchanted Isle</td>\n",
       "      <td>4.2</td>\n",
       "      <td>Wallet</td>\n",
       "      <td>EZ-Link</td>\n",
       "      <td>312</td>\n",
       "      <td>0%</td>\n",
       "      <td>0.24</td>\n",
       "      <td>156.000000</td>\n",
       "      <td>156.0</td>\n",
       "    </tr>\n",
       "    <tr>\n",
       "      <th>2</th>\n",
       "      <td>2</td>\n",
       "      <td>DDSG00003</td>\n",
       "      <td>01/01/2010</td>\n",
       "      <td>11:52:56</td>\n",
       "      <td>SG00001</td>\n",
       "      <td>Female</td>\n",
       "      <td>31</td>\n",
       "      <td>Singapore</td>\n",
       "      <td>Central</td>\n",
       "      <td>Germany</td>\n",
       "      <td>...</td>\n",
       "      <td>2</td>\n",
       "      <td>Seacoast Hotel</td>\n",
       "      <td>4.5</td>\n",
       "      <td>Credit Card</td>\n",
       "      <td>Grab</td>\n",
       "      <td>338</td>\n",
       "      <td>19%</td>\n",
       "      <td>0.20</td>\n",
       "      <td>169.000000</td>\n",
       "      <td>1183.0</td>\n",
       "    </tr>\n",
       "    <tr>\n",
       "      <th>3</th>\n",
       "      <td>3</td>\n",
       "      <td>DDSG00004</td>\n",
       "      <td>01/01/2010</td>\n",
       "      <td>13:44:40</td>\n",
       "      <td>SG00002</td>\n",
       "      <td>Male</td>\n",
       "      <td>28</td>\n",
       "      <td>Singapore</td>\n",
       "      <td>North</td>\n",
       "      <td>Canada</td>\n",
       "      <td>...</td>\n",
       "      <td>2</td>\n",
       "      <td>Night In Paradise</td>\n",
       "      <td>4.2</td>\n",
       "      <td>Debit Card</td>\n",
       "      <td>DBS Paylah</td>\n",
       "      <td>254</td>\n",
       "      <td>19%</td>\n",
       "      <td>0.13</td>\n",
       "      <td>127.000000</td>\n",
       "      <td>508.0</td>\n",
       "    </tr>\n",
       "    <tr>\n",
       "      <th>4</th>\n",
       "      <td>4</td>\n",
       "      <td>DDKH00005</td>\n",
       "      <td>01/01/2010</td>\n",
       "      <td>05:38:26</td>\n",
       "      <td>KH00001</td>\n",
       "      <td>Male</td>\n",
       "      <td>44</td>\n",
       "      <td>Cambodia</td>\n",
       "      <td>Phnom Trop</td>\n",
       "      <td>Kenya</td>\n",
       "      <td>...</td>\n",
       "      <td>3</td>\n",
       "      <td>Tiny Digs Hotel</td>\n",
       "      <td>4.6</td>\n",
       "      <td>Wallet</td>\n",
       "      <td>Bank of Singapore (BOS)</td>\n",
       "      <td>313</td>\n",
       "      <td>15%</td>\n",
       "      <td>0.17</td>\n",
       "      <td>104.333333</td>\n",
       "      <td>313.0</td>\n",
       "    </tr>\n",
       "  </tbody>\n",
       "</table>\n",
       "<p>5 rows × 23 columns</p>\n",
       "</div>"
      ],
      "text/plain": [
       "   Unnamed: 0 Booking ID Date of Booking      Time Customer ID  Gender  Age  \\\n",
       "0           0  DDMY00001      01/01/2010  10:49:40     MY00001    Male   42   \n",
       "1           1  DDID00002      01/01/2010  09:19:47     ID00001  Female   44   \n",
       "2           2  DDSG00003      01/01/2010  11:52:56     SG00001  Female   31   \n",
       "3           3  DDSG00004      01/01/2010  13:44:40     SG00002    Male   28   \n",
       "4           4  DDKH00005      01/01/2010  05:38:26     KH00001    Male   44   \n",
       "\n",
       "  Origin Country       State Destination Country  ... No_of_rooms  \\\n",
       "0       Malaysia       Johor             Denmark  ...           1   \n",
       "1      Indonesia       Ciawi            Colombia  ...           2   \n",
       "2      Singapore     Central             Germany  ...           2   \n",
       "3      Singapore       North              Canada  ...           2   \n",
       "4       Cambodia  Phnom Trop               Kenya  ...           3   \n",
       "\n",
       "          Hotel Name  Hotel Rating  Payment Mode                   Bank Name  \\\n",
       "0       Hotel Triton           4.3        Wallet  United Overseas Bank (UOB)   \n",
       "1     Enchanted Isle           4.2        Wallet                     EZ-Link   \n",
       "2     Seacoast Hotel           4.5   Credit Card                        Grab   \n",
       "3  Night In Paradise           4.2    Debit Card                  DBS Paylah   \n",
       "4    Tiny Digs Hotel           4.6        Wallet     Bank of Singapore (BOS)   \n",
       "\n",
       "   Price per day_Singapore_$ Discount Profit Margin  Price of Room per Day  \\\n",
       "0                        243       1%          0.25             243.000000   \n",
       "1                        312       0%          0.24             156.000000   \n",
       "2                        338      19%          0.20             169.000000   \n",
       "3                        254      19%          0.13             127.000000   \n",
       "4                        313      15%          0.17             104.333333   \n",
       "\n",
       "  Total Price  \n",
       "0      1944.0  \n",
       "1       156.0  \n",
       "2      1183.0  \n",
       "3       508.0  \n",
       "4       313.0  \n",
       "\n",
       "[5 rows x 23 columns]"
      ]
     },
     "execution_count": 9,
     "metadata": {},
     "output_type": "execute_result"
    }
   ],
   "source": [
    "dfhotel.head()"
   ]
  },
  {
   "cell_type": "markdown",
   "id": "88b1d983",
   "metadata": {},
   "source": [
    "# <span style=\"font-size:16px; color:black;\">Since the cleaning has been done in previous steps it is not shown here.</span>"
   ]
  },
  {
   "cell_type": "markdown",
   "id": "7a8ccbf2",
   "metadata": {},
   "source": [
    "#  <span style=\"font-size:16px; color:black;\">Hypothesis 1.</span>\n",
    "\n",
    "#    <span style=\"font-size:16px; color:black;\">\"It is possible to position room per night at a higher price when customer ratings are high but it resulted in low profit margin\".</span>\n",
    "\n",
    "- <span style=\"font-size:16px; color:black;\">Dependant variable : Price</span>\n",
    "- <span style=\"font-size:16px; color:black;\">independant variable : Rating</span>\n",
    "     "
   ]
  },
  {
   "cell_type": "code",
   "execution_count": 20,
   "id": "f25888a9",
   "metadata": {
    "scrolled": false
   },
   "outputs": [
    {
     "data": {
      "text/plain": [
       "count    66536.000000\n",
       "mean       120.016938\n",
       "std         92.845079\n",
       "min          8.750000\n",
       "25%         53.666667\n",
       "50%         92.666667\n",
       "75%        156.000000\n",
       "max        575.000000\n",
       "Name: Price of Room per Day, dtype: float64"
      ]
     },
     "execution_count": 20,
     "metadata": {},
     "output_type": "execute_result"
    }
   ],
   "source": [
    "dfhotel['Price of Room per Day'].describe()"
   ]
  },
  {
   "cell_type": "code",
   "execution_count": 23,
   "id": "f124859d",
   "metadata": {},
   "outputs": [
    {
     "data": {
      "text/plain": [
       "count    66536.000000\n",
       "mean         4.288508\n",
       "std          0.275518\n",
       "min          3.300000\n",
       "25%          4.200000\n",
       "50%          4.300000\n",
       "75%          4.500000\n",
       "max          4.700000\n",
       "Name: Hotel Rating, dtype: float64"
      ]
     },
     "execution_count": 23,
     "metadata": {},
     "output_type": "execute_result"
    }
   ],
   "source": [
    "dfhotel['Hotel Rating'].describe()"
   ]
  },
  {
   "cell_type": "code",
   "execution_count": 21,
   "id": "a1bec0c6",
   "metadata": {},
   "outputs": [
    {
     "data": {
      "text/plain": [
       "92.66666666666669"
      ]
     },
     "execution_count": 21,
     "metadata": {},
     "output_type": "execute_result"
    }
   ],
   "source": [
    "dfhotel['Price of Room per Day'].median() # Check the median"
   ]
  },
  {
   "cell_type": "code",
   "execution_count": 43,
   "id": "aa61f1ed",
   "metadata": {
    "scrolled": false
   },
   "outputs": [
    {
     "name": "stderr",
     "output_type": "stream",
     "text": [
      "C:\\Users\\wsaha\\AppData\\Local\\Temp\\ipykernel_19800\\3428645259.py:1: UserWarning: \n",
      "\n",
      "`distplot` is a deprecated function and will be removed in seaborn v0.14.0.\n",
      "\n",
      "Please adapt your code to use either `displot` (a figure-level function with\n",
      "similar flexibility) or `histplot` (an axes-level function for histograms).\n",
      "\n",
      "For a guide to updating your code to use the new functions, please see\n",
      "https://gist.github.com/mwaskom/de44147ed2974457ad6372750bbe5751\n",
      "\n",
      "  sns.distplot(dfhotel['Price of Room per Day'], bins=25) # Shows extreme values\n",
      "C:\\Users\\wsaha\\anaconda3\\Lib\\site-packages\\seaborn\\_oldcore.py:1119: FutureWarning: use_inf_as_na option is deprecated and will be removed in a future version. Convert inf values to NaN before operating instead.\n",
      "  with pd.option_context('mode.use_inf_as_na', True):\n"
     ]
    },
    {
     "data": {
      "image/png": "[encoded data removed]",
      "text/plain": [
       "<Figure size 640x480 with 1 Axes>"
      ]
     },
     "metadata": {},
     "output_type": "display_data"
    }
   ],
   "source": [
    "sns.distplot(dfhotel['Price of Room per Day'], bins=25) # Shows extreme values\n",
    "\n",
    "plt.savefig('histo price room density.png')"
   ]
  },
  {
   "cell_type": "code",
   "execution_count": 44,
   "id": "b8f790b5",
   "metadata": {},
   "outputs": [
    {
     "name": "stderr",
     "output_type": "stream",
     "text": [
      "C:\\Users\\wsaha\\AppData\\Local\\Temp\\ipykernel_19800\\1460152400.py:1: UserWarning: \n",
      "\n",
      "`distplot` is a deprecated function and will be removed in seaborn v0.14.0.\n",
      "\n",
      "Please adapt your code to use either `displot` (a figure-level function with\n",
      "similar flexibility) or `histplot` (an axes-level function for histograms).\n",
      "\n",
      "For a guide to updating your code to use the new functions, please see\n",
      "https://gist.github.com/mwaskom/de44147ed2974457ad6372750bbe5751\n",
      "\n",
      "  sns.distplot(dfhotel['Hotel Rating'], bins=25) # Shows extreme values\n",
      "C:\\Users\\wsaha\\anaconda3\\Lib\\site-packages\\seaborn\\_oldcore.py:1119: FutureWarning: use_inf_as_na option is deprecated and will be removed in a future version. Convert inf values to NaN before operating instead.\n",
      "  with pd.option_context('mode.use_inf_as_na', True):\n"
     ]
    },
    {
     "data": {
      "image/png": "[encoded data removed]",
      "text/plain": [
       "<Figure size 640x480 with 1 Axes>"
      ]
     },
     "metadata": {},
     "output_type": "display_data"
    }
   ],
   "source": [
    "sns.distplot(dfhotel['Hotel Rating'], bins=25) # Shows extreme values\n",
    "\n",
    "plt.savefig('rating density.png')"
   ]
  },
  {
   "cell_type": "markdown",
   "id": "2f76eefc",
   "metadata": {},
   "source": [
    "# <span style=\"font-size:16px; color:black;\">Both data set has no significant outliers/extream values.</span>\n"
   ]
  },
  {
   "cell_type": "code",
   "execution_count": 45,
   "id": "3a2d559e",
   "metadata": {},
   "outputs": [
    {
     "data": {
      "image/png": "[encoded data removed]",
      "text/plain": [
       "<Figure size 640x480 with 1 Axes>"
      ]
     },
     "metadata": {},
     "output_type": "display_data"
    },
    {
     "data": {
      "text/plain": [
       "<Figure size 640x480 with 0 Axes>"
      ]
     },
     "metadata": {},
     "output_type": "display_data"
    }
   ],
   "source": [
    "# Create a scatterplot using matplotlib for another look at how the chosen variables plot against each other.\n",
    "\n",
    "dfhotel.plot(x = 'Hotel Rating', y='Price of Room per Day',style='o') # The style option creates a scatterplot; without it, we only have lines.\n",
    "plt.title('Price of room per day v Rating')  \n",
    "plt.xlabel('Hotel Rating')  \n",
    "plt.ylabel('Price of Room per Day')  \n",
    "plt.show()\n",
    "\n",
    "plt.savefig('Price of room per day v Rating.png')"
   ]
  },
  {
   "cell_type": "code",
   "execution_count": 24,
   "id": "84389599",
   "metadata": {},
   "outputs": [],
   "source": [
    "# Reshape the variables into NumPy arrays and put them into separate objects.\n",
    "\n",
    "X = dfhotel['Hotel Rating'].values.reshape(-1,1)\n",
    "y = dfhotel['Price of Room per Day'].values.reshape(-1,1)"
   ]
  },
  {
   "cell_type": "code",
   "execution_count": 25,
   "id": "e6a01bad",
   "metadata": {},
   "outputs": [
    {
     "data": {
      "text/plain": [
       "array([[4.3],\n",
       "       [4.2],\n",
       "       [4.5],\n",
       "       ...,\n",
       "       [4.4],\n",
       "       [4.2],\n",
       "       [4.3]])"
      ]
     },
     "execution_count": 25,
     "metadata": {},
     "output_type": "execute_result"
    }
   ],
   "source": [
    "X"
   ]
  },
  {
   "cell_type": "code",
   "execution_count": 26,
   "id": "e389b1ca",
   "metadata": {},
   "outputs": [
    {
     "data": {
      "text/plain": [
       "array([[243.        ],\n",
       "       [156.        ],\n",
       "       [169.        ],\n",
       "       ...,\n",
       "       [ 79.5       ],\n",
       "       [ 86.5       ],\n",
       "       [ 60.66666667]])"
      ]
     },
     "execution_count": 26,
     "metadata": {},
     "output_type": "execute_result"
    }
   ],
   "source": [
    "y"
   ]
  },
  {
   "cell_type": "code",
   "execution_count": 27,
   "id": "79983107",
   "metadata": {},
   "outputs": [],
   "source": [
    "X_train, X_test, y_train, y_test = train_test_split(X, y, test_size=0.3, random_state=0)"
   ]
  },
  {
   "cell_type": "code",
   "execution_count": 28,
   "id": "934331a8",
   "metadata": {},
   "outputs": [],
   "source": [
    "# Create a regression object.\n",
    "\n",
    "regression = LinearRegression()  # This is the regression object, which will be fit onto the training set."
   ]
  },
  {
   "cell_type": "code",
   "execution_count": 29,
   "id": "ae2af729",
   "metadata": {},
   "outputs": [
    {
     "data": {
      "text/html": [
       "<style>#sk-container-id-1 {color: black;}#sk-container-id-1 pre{padding: 0;}#sk-container-id-1 div.sk-toggleable {background-color: white;}#sk-container-id-1 label.sk-toggleable__label {cursor: pointer;display: block;width: 100%;margin-bottom: 0;padding: 0.3em;box-sizing: border-box;text-align: center;}#sk-container-id-1 label.sk-toggleable__label-arrow:before {content: \"▸\";float: left;margin-right: 0.25em;color: #696969;}#sk-container-id-1 label.sk-toggleable__label-arrow:hover:before {color: black;}#sk-container-id-1 div.sk-estimator:hover label.sk-toggleable__label-arrow:before {color: black;}#sk-container-id-1 div.sk-toggleable__content {max-height: 0;max-width: 0;overflow: hidden;text-align: left;background-color: #f0f8ff;}#sk-container-id-1 div.sk-toggleable__content pre {margin: 0.2em;color: black;border-radius: 0.25em;background-color: #f0f8ff;}#sk-container-id-1 input.sk-toggleable__control:checked~div.sk-toggleable__content {max-height: 200px;max-width: 100%;overflow: auto;}#sk-container-id-1 input.sk-toggleable__control:checked~label.sk-toggleable__label-arrow:before {content: \"▾\";}#sk-container-id-1 div.sk-estimator input.sk-toggleable__control:checked~label.sk-toggleable__label {background-color: #d4ebff;}#sk-container-id-1 div.sk-label input.sk-toggleable__control:checked~label.sk-toggleable__label {background-color: #d4ebff;}#sk-container-id-1 input.sk-hidden--visually {border: 0;clip: rect(1px 1px 1px 1px);clip: rect(1px, 1px, 1px, 1px);height: 1px;margin: -1px;overflow: hidden;padding: 0;position: absolute;width: 1px;}#sk-container-id-1 div.sk-estimator {font-family: monospace;background-color: #f0f8ff;border: 1px dotted black;border-radius: 0.25em;box-sizing: border-box;margin-bottom: 0.5em;}#sk-container-id-1 div.sk-estimator:hover {background-color: #d4ebff;}#sk-container-id-1 div.sk-parallel-item::after {content: \"\";width: 100%;border-bottom: 1px solid gray;flex-grow: 1;}#sk-container-id-1 div.sk-label:hover label.sk-toggleable__label {background-color: #d4ebff;}#sk-container-id-1 div.sk-serial::before {content: \"\";position: absolute;border-left: 1px solid gray;box-sizing: border-box;top: 0;bottom: 0;left: 50%;z-index: 0;}#sk-container-id-1 div.sk-serial {display: flex;flex-direction: column;align-items: center;background-color: white;padding-right: 0.2em;padding-left: 0.2em;position: relative;}#sk-container-id-1 div.sk-item {position: relative;z-index: 1;}#sk-container-id-1 div.sk-parallel {display: flex;align-items: stretch;justify-content: center;background-color: white;position: relative;}#sk-container-id-1 div.sk-item::before, #sk-container-id-1 div.sk-parallel-item::before {content: \"\";position: absolute;border-left: 1px solid gray;box-sizing: border-box;top: 0;bottom: 0;left: 50%;z-index: -1;}#sk-container-id-1 div.sk-parallel-item {display: flex;flex-direction: column;z-index: 1;position: relative;background-color: white;}#sk-container-id-1 div.sk-parallel-item:first-child::after {align-self: flex-end;width: 50%;}#sk-container-id-1 div.sk-parallel-item:last-child::after {align-self: flex-start;width: 50%;}#sk-container-id-1 div.sk-parallel-item:only-child::after {width: 0;}#sk-container-id-1 div.sk-dashed-wrapped {border: 1px dashed gray;margin: 0 0.4em 0.5em 0.4em;box-sizing: border-box;padding-bottom: 0.4em;background-color: white;}#sk-container-id-1 div.sk-label label {font-family: monospace;font-weight: bold;display: inline-block;line-height: 1.2em;}#sk-container-id-1 div.sk-label-container {text-align: center;}#sk-container-id-1 div.sk-container {/* jupyter's `normalize.less` sets `[hidden] { display: none; }` but bootstrap.min.css set `[hidden] { display: none !important; }` so we also need the `!important` here to be able to override the default hidden behavior on the sphinx rendered scikit-learn.org. See: https://github.com/scikit-learn/scikit-learn/issues/21755 */display: inline-block !important;position: relative;}#sk-container-id-1 div.sk-text-repr-fallback {display: none;}</style><div id=\"sk-container-id-1\" class=\"sk-top-container\"><div class=\"sk-text-repr-fallback\"><pre>LinearRegression()</pre><b>In a Jupyter environment, please rerun this cell to show the HTML representation or trust the notebook. <br />On GitHub, the HTML representation is unable to render, please try loading this page with nbviewer.org.</b></div><div class=\"sk-container\" hidden><div class=\"sk-item\"><div class=\"sk-estimator sk-toggleable\"><input class=\"sk-toggleable__control sk-hidden--visually\" id=\"sk-estimator-id-1\" type=\"checkbox\" checked><label for=\"sk-estimator-id-1\" class=\"sk-toggleable__label sk-toggleable__label-arrow\">LinearRegression</label><div class=\"sk-toggleable__content\"><pre>LinearRegression()</pre></div></div></div></div></div>"
      ],
      "text/plain": [
       "LinearRegression()"
      ]
     },
     "execution_count": 29,
     "metadata": {},
     "output_type": "execute_result"
    }
   ],
   "source": [
    "# Fit the regression object onto the training set.\n",
    "\n",
    "regression.fit(X_train, y_train)"
   ]
  },
  {
   "cell_type": "code",
   "execution_count": 30,
   "id": "09162b1b",
   "metadata": {},
   "outputs": [],
   "source": [
    "# Predict the values of y using X.\n",
    "\n",
    "y_predicted = regression.predict(X_test)"
   ]
  },
  {
   "cell_type": "code",
   "execution_count": 46,
   "id": "9dc3df10",
   "metadata": {},
   "outputs": [
    {
     "data": {
      "image/png": "[encoded data removed]",
      "text/plain": [
       "<Figure size 640x480 with 1 Axes>"
      ]
     },
     "metadata": {},
     "output_type": "display_data"
    },
    {
     "data": {
      "text/plain": [
       "<Figure size 640x480 with 0 Axes>"
      ]
     },
     "metadata": {},
     "output_type": "display_data"
    }
   ],
   "source": [
    "# Create a plot that shows the regression line from the model on the test set.\n",
    "\n",
    "plot_test = plt\n",
    "plot_test.scatter(X_test, y_test, color='blue', s = 15)\n",
    "plot_test.plot(X_test, y_predicted, color='red', linewidth =3)\n",
    "plot_test.title('Price of room per day v Rating(Test set)')\n",
    "plot_test.xlabel('Hotel Rating')\n",
    "plot_test.ylabel('Price of Room per Day')\n",
    "plot_test.show()\n",
    "\n",
    "plt.savefig('Price of room per day v Rating(Test set) regression line.png')"
   ]
  },
  {
   "cell_type": "code",
   "execution_count": 32,
   "id": "f4191bdc",
   "metadata": {},
   "outputs": [],
   "source": [
    "# Create objects that contain the model summary statistics.\n",
    "\n",
    "rmse = mean_squared_error(y_test, y_predicted) # This is the mean squared error\n",
    "r2 = r2_score(y_test, y_predicted) # This is the R2 score. "
   ]
  },
  {
   "cell_type": "code",
   "execution_count": 33,
   "id": "c6451601",
   "metadata": {},
   "outputs": [
    {
     "name": "stdout",
     "output_type": "stream",
     "text": [
      "Slope: [[112.02678699]]\n",
      "Mean squared error:  7589.486329662423\n",
      "R2 score:  0.11079206912955397\n"
     ]
    }
   ],
   "source": [
    "# Print the model summary statistics. This is where you evaluate the performance of the model.\n",
    "\n",
    "print('Slope:' ,regression.coef_)\n",
    "print('Mean squared error: ', rmse)\n",
    "print('R2 score: ', r2)"
   ]
  },
  {
   "cell_type": "markdown",
   "id": "017478ff",
   "metadata": {},
   "source": [
    "<span style=\"font-size:16px; color:blue;\">Slope indicates that there is a positive relationship between two variables. However large rmse and  r score of 0.11 indicates that the model is a poor fit .</span>"
   ]
  },
  {
   "cell_type": "code",
   "execution_count": 34,
   "id": "d51b5e63",
   "metadata": {},
   "outputs": [
    {
     "data": {
      "text/plain": [
       "array([[121.74726492],\n",
       "       [110.54458622],\n",
       "       [ 65.73387142],\n",
       "       ...,\n",
       "       [ 99.34190752],\n",
       "       [166.55797972],\n",
       "       [110.54458622]])"
      ]
     },
     "execution_count": 34,
     "metadata": {},
     "output_type": "execute_result"
    }
   ],
   "source": [
    "y_predicted"
   ]
  },
  {
   "cell_type": "code",
   "execution_count": 35,
   "id": "db2882ac",
   "metadata": {
    "scrolled": true
   },
   "outputs": [
    {
     "data": {
      "text/html": [
       "<div>\n",
       "<style scoped>\n",
       "    .dataframe tbody tr th:only-of-type {\n",
       "        vertical-align: middle;\n",
       "    }\n",
       "\n",
       "    .dataframe tbody tr th {\n",
       "        vertical-align: top;\n",
       "    }\n",
       "\n",
       "    .dataframe thead th {\n",
       "        text-align: right;\n",
       "    }\n",
       "</style>\n",
       "<table border=\"1\" class=\"dataframe\">\n",
       "  <thead>\n",
       "    <tr style=\"text-align: right;\">\n",
       "      <th></th>\n",
       "      <th>Actual</th>\n",
       "      <th>Predicted</th>\n",
       "    </tr>\n",
       "  </thead>\n",
       "  <tbody>\n",
       "    <tr>\n",
       "      <th>0</th>\n",
       "      <td>307.000000</td>\n",
       "      <td>121.747265</td>\n",
       "    </tr>\n",
       "    <tr>\n",
       "      <th>1</th>\n",
       "      <td>80.000000</td>\n",
       "      <td>110.544586</td>\n",
       "    </tr>\n",
       "    <tr>\n",
       "      <th>2</th>\n",
       "      <td>65.000000</td>\n",
       "      <td>65.733871</td>\n",
       "    </tr>\n",
       "    <tr>\n",
       "      <th>3</th>\n",
       "      <td>36.500000</td>\n",
       "      <td>110.544586</td>\n",
       "    </tr>\n",
       "    <tr>\n",
       "      <th>4</th>\n",
       "      <td>68.000000</td>\n",
       "      <td>110.544586</td>\n",
       "    </tr>\n",
       "    <tr>\n",
       "      <th>5</th>\n",
       "      <td>144.000000</td>\n",
       "      <td>144.152622</td>\n",
       "    </tr>\n",
       "    <tr>\n",
       "      <th>6</th>\n",
       "      <td>74.000000</td>\n",
       "      <td>144.152622</td>\n",
       "    </tr>\n",
       "    <tr>\n",
       "      <th>7</th>\n",
       "      <td>133.500000</td>\n",
       "      <td>110.544586</td>\n",
       "    </tr>\n",
       "    <tr>\n",
       "      <th>8</th>\n",
       "      <td>144.500000</td>\n",
       "      <td>121.747265</td>\n",
       "    </tr>\n",
       "    <tr>\n",
       "      <th>9</th>\n",
       "      <td>106.000000</td>\n",
       "      <td>132.949944</td>\n",
       "    </tr>\n",
       "    <tr>\n",
       "      <th>10</th>\n",
       "      <td>104.250000</td>\n",
       "      <td>110.544586</td>\n",
       "    </tr>\n",
       "    <tr>\n",
       "      <th>11</th>\n",
       "      <td>208.000000</td>\n",
       "      <td>121.747265</td>\n",
       "    </tr>\n",
       "    <tr>\n",
       "      <th>12</th>\n",
       "      <td>171.333333</td>\n",
       "      <td>110.544586</td>\n",
       "    </tr>\n",
       "    <tr>\n",
       "      <th>13</th>\n",
       "      <td>97.000000</td>\n",
       "      <td>132.949944</td>\n",
       "    </tr>\n",
       "    <tr>\n",
       "      <th>14</th>\n",
       "      <td>189.000000</td>\n",
       "      <td>99.341908</td>\n",
       "    </tr>\n",
       "    <tr>\n",
       "      <th>15</th>\n",
       "      <td>170.000000</td>\n",
       "      <td>65.733871</td>\n",
       "    </tr>\n",
       "    <tr>\n",
       "      <th>16</th>\n",
       "      <td>108.000000</td>\n",
       "      <td>121.747265</td>\n",
       "    </tr>\n",
       "    <tr>\n",
       "      <th>17</th>\n",
       "      <td>12.500000</td>\n",
       "      <td>99.341908</td>\n",
       "    </tr>\n",
       "    <tr>\n",
       "      <th>18</th>\n",
       "      <td>83.250000</td>\n",
       "      <td>155.355301</td>\n",
       "    </tr>\n",
       "    <tr>\n",
       "      <th>19</th>\n",
       "      <td>53.000000</td>\n",
       "      <td>99.341908</td>\n",
       "    </tr>\n",
       "    <tr>\n",
       "      <th>20</th>\n",
       "      <td>131.500000</td>\n",
       "      <td>132.949944</td>\n",
       "    </tr>\n",
       "    <tr>\n",
       "      <th>21</th>\n",
       "      <td>17.666667</td>\n",
       "      <td>132.949944</td>\n",
       "    </tr>\n",
       "    <tr>\n",
       "      <th>22</th>\n",
       "      <td>213.000000</td>\n",
       "      <td>144.152622</td>\n",
       "    </tr>\n",
       "    <tr>\n",
       "      <th>23</th>\n",
       "      <td>263.000000</td>\n",
       "      <td>155.355301</td>\n",
       "    </tr>\n",
       "    <tr>\n",
       "      <th>24</th>\n",
       "      <td>234.000000</td>\n",
       "      <td>155.355301</td>\n",
       "    </tr>\n",
       "    <tr>\n",
       "      <th>25</th>\n",
       "      <td>119.666667</td>\n",
       "      <td>155.355301</td>\n",
       "    </tr>\n",
       "    <tr>\n",
       "      <th>26</th>\n",
       "      <td>48.750000</td>\n",
       "      <td>65.733871</td>\n",
       "    </tr>\n",
       "    <tr>\n",
       "      <th>27</th>\n",
       "      <td>109.666667</td>\n",
       "      <td>110.544586</td>\n",
       "    </tr>\n",
       "    <tr>\n",
       "      <th>28</th>\n",
       "      <td>71.000000</td>\n",
       "      <td>99.341908</td>\n",
       "    </tr>\n",
       "    <tr>\n",
       "      <th>29</th>\n",
       "      <td>107.000000</td>\n",
       "      <td>144.152622</td>\n",
       "    </tr>\n",
       "  </tbody>\n",
       "</table>\n",
       "</div>"
      ],
      "text/plain": [
       "        Actual   Predicted\n",
       "0   307.000000  121.747265\n",
       "1    80.000000  110.544586\n",
       "2    65.000000   65.733871\n",
       "3    36.500000  110.544586\n",
       "4    68.000000  110.544586\n",
       "5   144.000000  144.152622\n",
       "6    74.000000  144.152622\n",
       "7   133.500000  110.544586\n",
       "8   144.500000  121.747265\n",
       "9   106.000000  132.949944\n",
       "10  104.250000  110.544586\n",
       "11  208.000000  121.747265\n",
       "12  171.333333  110.544586\n",
       "13   97.000000  132.949944\n",
       "14  189.000000   99.341908\n",
       "15  170.000000   65.733871\n",
       "16  108.000000  121.747265\n",
       "17   12.500000   99.341908\n",
       "18   83.250000  155.355301\n",
       "19   53.000000   99.341908\n",
       "20  131.500000  132.949944\n",
       "21   17.666667  132.949944\n",
       "22  213.000000  144.152622\n",
       "23  263.000000  155.355301\n",
       "24  234.000000  155.355301\n",
       "25  119.666667  155.355301\n",
       "26   48.750000   65.733871\n",
       "27  109.666667  110.544586\n",
       "28   71.000000   99.341908\n",
       "29  107.000000  144.152622"
      ]
     },
     "execution_count": 35,
     "metadata": {},
     "output_type": "execute_result"
    }
   ],
   "source": [
    "# Create a dataframe comparing the actual and predicted values of y.\n",
    "\n",
    "data = pd.DataFrame({'Actual': y_test.flatten(), 'Predicted': y_predicted.flatten()})\n",
    "data.head(30)"
   ]
  },
  {
   "cell_type": "markdown",
   "id": "dc9321af",
   "metadata": {},
   "source": [
    "<span style=\"font-size:16px; color:blue;\">in many cases there is a big difference between predictive and actual values this indicates that the model is not an optimal way to see if ratings has an impact on hotel room price per day.</span>\n"
   ]
  },
  {
   "cell_type": "code",
   "execution_count": 36,
   "id": "8e206ebb",
   "metadata": {},
   "outputs": [],
   "source": [
    "##Compare how the regression fits the training set\n",
    "\n",
    "# Predict.\n",
    "\n",
    "y_predicted_train = regression.predict(X_train) # This is predicting X_train!"
   ]
  },
  {
   "cell_type": "code",
   "execution_count": 37,
   "id": "5db1db8e",
   "metadata": {},
   "outputs": [],
   "source": [
    "rmse = mean_squared_error(y_train, y_predicted_train)\n",
    "r2 = r2_score(y_train, y_predicted_train)"
   ]
  },
  {
   "cell_type": "code",
   "execution_count": 38,
   "id": "f604c8a0",
   "metadata": {},
   "outputs": [
    {
     "name": "stdout",
     "output_type": "stream",
     "text": [
      "Slope: [[112.02678699]]\n",
      "Mean squared error:  7701.846124890029\n",
      "R2 score:  0.11024160371377234\n"
     ]
    }
   ],
   "source": [
    "print('Slope:' ,regression.coef_)\n",
    "print('Mean squared error: ', rmse)\n",
    "print('R2 score: ', r2)"
   ]
  },
  {
   "cell_type": "code",
   "execution_count": 47,
   "id": "593b7ea6",
   "metadata": {},
   "outputs": [
    {
     "data": {
      "image/png": "[encoded data removed]",
      "text/plain": [
       "<Figure size 640x480 with 1 Axes>"
      ]
     },
     "metadata": {},
     "output_type": "display_data"
    },
    {
     "data": {
      "text/plain": [
       "<Figure size 640x480 with 0 Axes>"
      ]
     },
     "metadata": {},
     "output_type": "display_data"
    }
   ],
   "source": [
    "# Visualizing the training set results.\n",
    "\n",
    "plot_test = plt\n",
    "plot_test.scatter(X_train, y_train, color='orange', s = 15)\n",
    "plot_test.plot(X_train, y_predicted_train, color='red', linewidth =3)\n",
    "plot_test.title('Price of room per day v Rating (Train set)')\n",
    "plot_test.xlabel('Hotel Rating')\n",
    "plot_test.ylabel('Price of Room per Day')\n",
    "plot_test.show()\n",
    "\n",
    "plt.savefig('Price of room per day v Rating(training set) regression line.png')"
   ]
  },
  {
   "cell_type": "markdown",
   "id": "9d14d9ad",
   "metadata": {},
   "source": [
    "<span style=\"font-size:16px; color:blue;\">It indicates that training and tests sets results are same so the model \n",
    "respond well for unseen data, even the model seems a poor fit for variables</span>\n"
   ]
  },
  {
   "cell_type": "code",
   "execution_count": 41,
   "id": "121a220b",
   "metadata": {},
   "outputs": [],
   "source": [
    "dfhotel.to_csv(os.path.join(path, 'Data set', 'Prepared', 'Df_hotel_cleaned.csv'))"
   ]
  },
  {
   "cell_type": "code",
   "execution_count": null,
   "id": "a6162a1b",
   "metadata": {},
   "outputs": [],
   "source": []
  }
 ],
 "metadata": {
  "kernelspec": {
   "display_name": "Python 3 (ipykernel)",
   "language": "python",
   "name": "python3"
  },
  "language_info": {
   "codemirror_mode": {
    "name": "ipython",
    "version": 3
   },
   "file_extension": ".py",
   "mimetype": "text/x-python",
   "name": "python",
   "nbconvert_exporter": "python",
   "pygments_lexer": "ipython3",
   "version": "3.11.5"
  }
 },
 "nbformat": 4,
 "nbformat_minor": 5
}
